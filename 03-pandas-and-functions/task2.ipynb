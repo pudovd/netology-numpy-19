{
 "cells": [
  {
   "cell_type": "markdown",
   "metadata": {},
   "source": [
    "### Задание 2\n",
    "Используем файл `keywords.csv`.\n",
    "\n",
    "Необходимо написать гео-классификатор, который каждой строке сможет выставить географическую принадлежность определенному региону. Т.е. если поисковый запрос содержит название города региона, то в столбце `region` пишется название этого региона. Если поисковый запрос не содержит названия города, то ставим `undefined`.\n",
    "\n",
    "Правила распределения по регионам `Центр`, `Северо-Запад` и `Дальний Восток`:\n",
    "\n",
    "    geo_data = {\n",
    "        \"Центр\": [\"москва\", \"тула\", \"ярославль\"],\n",
    "        \"Северо-Запад\": [\"петербург\", \"псков\", \"мурманск\"],\n",
    "        \"Дальний Восток\": [\"владивосток\", \"сахалин\", \"хабаровск\"],\n",
    "    }"
   ]
  },
  {
   "cell_type": "code",
   "execution_count": 1,
   "metadata": {},
   "outputs": [],
   "source": [
    "import lzma\n",
    "import pandas as pd\n",
    "\n",
    "file = lzma.open('data/keywords.csv.xz')\n",
    "keywords = pd.read_csv(file)"
   ]
  },
  {
   "cell_type": "code",
   "execution_count": 2,
   "metadata": {},
   "outputs": [
    {
     "data": {
      "text/html": [
       "<div>\n",
       "<style scoped>\n",
       "    .dataframe tbody tr th:only-of-type {\n",
       "        vertical-align: middle;\n",
       "    }\n",
       "\n",
       "    .dataframe tbody tr th {\n",
       "        vertical-align: top;\n",
       "    }\n",
       "\n",
       "    .dataframe thead th {\n",
       "        text-align: right;\n",
       "    }\n",
       "</style>\n",
       "<table border=\"1\" class=\"dataframe\">\n",
       "  <thead>\n",
       "    <tr style=\"text-align: right;\">\n",
       "      <th></th>\n",
       "      <th>keyword</th>\n",
       "      <th>shows</th>\n",
       "      <th>region</th>\n",
       "    </tr>\n",
       "  </thead>\n",
       "  <tbody>\n",
       "    <tr>\n",
       "      <th>127</th>\n",
       "      <td>авито москва</td>\n",
       "      <td>979292</td>\n",
       "      <td>Центр</td>\n",
       "    </tr>\n",
       "    <tr>\n",
       "      <th>370</th>\n",
       "      <td>авито ру санкт петербург</td>\n",
       "      <td>425134</td>\n",
       "      <td>Северо-Запад</td>\n",
       "    </tr>\n",
       "    <tr>\n",
       "      <th>564</th>\n",
       "      <td>погода в санкт петербурге</td>\n",
       "      <td>292489</td>\n",
       "      <td>Северо-Запад</td>\n",
       "    </tr>\n",
       "    <tr>\n",
       "      <th>849</th>\n",
       "      <td>авито ярославль</td>\n",
       "      <td>209581</td>\n",
       "      <td>Центр</td>\n",
       "    </tr>\n",
       "    <tr>\n",
       "      <th>1063</th>\n",
       "      <td>фарпост владивосток</td>\n",
       "      <td>176951</td>\n",
       "      <td>Дальний Восток</td>\n",
       "    </tr>\n",
       "  </tbody>\n",
       "</table>\n",
       "</div>"
      ],
      "text/plain": [
       "                        keyword   shows          region\n",
       "127                авито москва  979292           Центр\n",
       "370    авито ру санкт петербург  425134    Северо-Запад\n",
       "564   погода в санкт петербурге  292489    Северо-Запад\n",
       "849             авито ярославль  209581           Центр\n",
       "1063        фарпост владивосток  176951  Дальний Восток"
      ]
     },
     "execution_count": 2,
     "metadata": {},
     "output_type": "execute_result"
    }
   ],
   "source": [
    "geo_data = {\n",
    "    \"Центр\": [\"москва\", \"тула\", \"ярославль\"],\n",
    "    \"Северо-Запад\": [\"петербург\", \"псков\", \"мурманск\"],\n",
    "    \"Дальний Восток\": [\"владивосток\", \"сахалин\", \"хабаровск\"],\n",
    "}\n",
    "\n",
    "def region(keyword):\n",
    "    for region, cities in geo_data.items():\n",
    "        for city in cities:\n",
    "            if city in keyword: \n",
    "                return region\n",
    "    return 'undefined'\n",
    "    \n",
    "keywords['region'] = keywords.keyword.apply(region)\n",
    "keywords[ keywords.region != 'undefined'].head()"
   ]
  }
 ],
 "metadata": {
  "kernelspec": {
   "display_name": "Python 3",
   "language": "python",
   "name": "python3"
  },
  "language_info": {
   "codemirror_mode": {
    "name": "ipython",
    "version": 3
   },
   "file_extension": ".py",
   "mimetype": "text/x-python",
   "name": "python",
   "nbconvert_exporter": "python",
   "pygments_lexer": "ipython3",
   "version": "3.8.5"
  }
 },
 "nbformat": 4,
 "nbformat_minor": 4
}
