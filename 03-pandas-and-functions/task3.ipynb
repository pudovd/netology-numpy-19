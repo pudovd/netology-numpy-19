{
 "cells": [
  {
   "cell_type": "markdown",
   "metadata": {},
   "source": [
    "### Задание 3 (бонусное)\n",
    "\n",
    "Есть мнение, что \"раньше снимали настоящее кино, не то что сейчас\". Ваша задача проверить это утверждение, используя файлы с рейтингами фильмов из прошлого домашнего занятия (файл `movies.csv` и `ratings.csv` из базы https://grouplens.org/datasets/movielens). Т. е. проверить верно ли, что с ростом года выпуска фильма его средний рейтинг становится ниже.\n",
    "\n",
    "При этом мы не будем затрагивать субьективные факторы выставления этих рейтингов, а пройдемся по следующему алгоритму:\n",
    "1. В переменную `years` запишите список из всех годов с `1950` по `2010`.\n",
    "2. Напишите функцию `production_year`, которая каждой строке из названия фильма выставляет год выпуска. Не все названия фильмов содержат год выпуска в одинаковом формате, поэтому используйте следующий алгоритм:\n",
    "    1. для каждой строки пройдите по всем годам списка `years`\n",
    "    2. если номер года присутствует в названии фильма, то функция возвращает этот год как год выпуска\n",
    "    3. если ни один из номеров года списка years не встретился в названии фильма, то возвращается 1900 год\n",
    "3. Запишите год выпуска фильма по алгоритму пункта 2 в новый столбец `year`\n",
    "4. Посчитайте средний рейтинг всех фильмов для каждого значения столбца `year` и отсортируйте результат по убыванию рейтинга\n"
   ]
  },
  {
   "cell_type": "code",
   "execution_count": 1,
   "metadata": {},
   "outputs": [
    {
     "name": "stdout",
     "output_type": "stream",
     "text": [
      "File 'ml-latest-small.zip' is already downloaded.\n",
      "ml-latest-small/\n",
      "ml-latest-small/links.csv\n",
      "ml-latest-small/tags.csv\n",
      "ml-latest-small/ratings.csv\n",
      "ml-latest-small/README.txt\n",
      "ml-latest-small/movies.csv\n"
     ]
    }
   ],
   "source": [
    "import sys\n",
    "sys.path.append('../')\n",
    "from helpers import MovieLensDatasets\n",
    "\n",
    "dataset_helper = MovieLensDatasets()\n",
    "dataset_helper.prepare_datasets()"
   ]
  },
  {
   "cell_type": "code",
   "execution_count": 2,
   "metadata": {},
   "outputs": [],
   "source": [
    "def production_year(title, years):\n",
    "    for year in years:\n",
    "        if str(year) in title:\n",
    "            return year\n",
    "    return 1900"
   ]
  },
  {
   "cell_type": "code",
   "execution_count": 3,
   "metadata": {},
   "outputs": [
    {
     "data": {
      "text/plain": [
       "year\n",
       "1957    4.039535\n",
       "1954    4.009191\n",
       "1962    3.969466\n",
       "1952    3.953125\n",
       "1972    3.944293\n",
       "          ...   \n",
       "2000    3.398922\n",
       "2005    3.359976\n",
       "1992    3.353555\n",
       "1997    3.347241\n",
       "1996    3.335329\n",
       "Name: rating, Length: 61, dtype: float64"
      ]
     },
     "execution_count": 3,
     "metadata": {},
     "output_type": "execute_result"
    }
   ],
   "source": [
    "import pandas as pd\n",
    "\n",
    "years = range(1950, 2010)\n",
    "\n",
    "movies = pd.read_csv('ml-latest-small/movies.csv')\n",
    "ratings = pd.read_csv('ml-latest-small/ratings.csv')\n",
    "\n",
    "joined = ratings.merge(movies, on='movieId', how='left')\n",
    "joined['year'] = joined.title.apply(production_year, years=years)\n",
    "joined.groupby('year').mean()['rating'].sort_values(ascending=False)"
   ]
  }
 ],
 "metadata": {
  "kernelspec": {
   "display_name": "Python 3",
   "language": "python",
   "name": "python3"
  },
  "language_info": {
   "codemirror_mode": {
    "name": "ipython",
    "version": 3
   },
   "file_extension": ".py",
   "mimetype": "text/x-python",
   "name": "python",
   "nbconvert_exporter": "python",
   "pygments_lexer": "ipython3",
   "version": "3.8.5"
  }
 },
 "nbformat": 4,
 "nbformat_minor": 4
}
