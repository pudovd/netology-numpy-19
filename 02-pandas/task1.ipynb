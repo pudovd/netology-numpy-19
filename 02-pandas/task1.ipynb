{
 "cells": [
  {
   "cell_type": "markdown",
   "metadata": {},
   "source": [
    "### Задание 1\n",
    "Скачайте с сайта https://grouplens.org/datasets/movielens/ датасет любого размера. Определите какому фильму было выставлено больше всего оценок 5.0."
   ]
  },
  {
   "cell_type": "code",
   "execution_count": 1,
   "metadata": {},
   "outputs": [
    {
     "name": "stdout",
     "output_type": "stream",
     "text": [
      "Data already downloaded.\r\n",
      "Current files:\r\n",
      "=====================\r\n",
      "ml-latest-small/\r\n",
      "ml-latest-small/ratings.csv\r\n",
      "ml-latest-small/movies.csv\r\n",
      "ml-latest-small/tags.csv\r\n",
      "ml-latest-small/links.csv\r\n",
      "ml-latest-small/README.txt\r\n",
      "=====================\r\n"
     ]
    }
   ],
   "source": [
    "# download data if we haven't it\n",
    "# TODO. Need to rewrite from shell to python\n",
    "!./helper/download_data.sh"
   ]
  },
  {
   "cell_type": "code",
   "execution_count": 2,
   "metadata": {},
   "outputs": [
    {
     "data": {
      "text/plain": [
       "(318, 'Shawshank Redemption, The (1994)')"
      ]
     },
     "execution_count": 2,
     "metadata": {},
     "output_type": "execute_result"
    }
   ],
   "source": [
    "import pandas as pd\n",
    "\n",
    "# prepare data\n",
    "ratings = pd.read_csv('ml-latest-small/ratings.csv')\n",
    "movies = pd.read_csv('ml-latest-small/movies.csv')\n",
    "joined = ratings.merge(movies, on='movieId', how='left')\n",
    "# filtering original data\n",
    "filtered_ratings = joined[ joined['rating'] == 5.0 ]\n",
    "filtered_ratings = filtered_ratings[['movieId','title']]\n",
    "# count unique rows and get top of it\n",
    "filtered_ratings.value_counts().index[0]"
   ]
  }
 ],
 "metadata": {
  "kernelspec": {
   "display_name": "Python 3",
   "language": "python",
   "name": "python3"
  },
  "language_info": {
   "codemirror_mode": {
    "name": "ipython",
    "version": 3
   },
   "file_extension": ".py",
   "mimetype": "text/x-python",
   "name": "python",
   "nbconvert_exporter": "python",
   "pygments_lexer": "ipython3",
   "version": "3.8.5"
  }
 },
 "nbformat": 4,
 "nbformat_minor": 4
}
