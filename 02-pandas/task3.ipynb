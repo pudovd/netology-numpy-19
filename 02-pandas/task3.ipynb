{
 "cells": [
  {
   "cell_type": "markdown",
   "metadata": {},
   "source": [
    "### Задание 3\n",
    "Выберите страницу любого сайта с табличными данными. Импортируйте таблицы в `pandas dataframe`."
   ]
  },
  {
   "cell_type": "code",
   "execution_count": 1,
   "metadata": {},
   "outputs": [],
   "source": [
    "import pandas as pd\n",
    "\n",
    "tables = pd.read_html('https://fortrader.org/quotes')\n",
    "table_names = [\n",
    "    'Курсы валют к рублю'\n",
    "    , 'Цены на сырьё'\n",
    "    , 'Металлы'\n",
    "    , 'Курсы акций российских компаний'\n",
    "    , 'Американские биржи'\n",
    "    , 'ETF Фонды'\n",
    "    , 'Индексы'\n",
    "    , 'Курс валют на межбанковском рынке'\n",
    "    , 'Курс криптовалют'\n",
    "]"
   ]
  },
  {
   "cell_type": "code",
   "execution_count": 2,
   "metadata": {},
   "outputs": [
    {
     "name": "stdout",
     "output_type": "stream",
     "text": [
      "Введите команду: h\n",
      "Неизвестная команда. Используйте одну из следующих команд:\n",
      "0 - Курсы валют к рублю\n",
      "1 - Цены на сырьё\n",
      "2 - Металлы\n",
      "3 - Курсы акций российских компаний\n",
      "4 - Американские биржи\n",
      "5 - ETF Фонды\n",
      "6 - Индексы\n",
      "7 - Курс валют на межбанковском рынке\n",
      "8 - Курс криптовалют\n",
      "q - Завершение программы\n",
      "Введите команду: 0\n",
      "                           Название   Цена  Изменение  Изменение(%)  Обновлено\n",
      "0  EURRUB Курс евро к рублю сегодня  91.81      -0.03         -0.03        NaN\n",
      "1       USDRUB Курс рубля к доллару  77.33       0.28          0.36        NaN\n",
      "\n",
      "\n",
      "\n",
      "Введите команду: q\n"
     ]
    }
   ],
   "source": [
    "\n",
    "def build_menu(table_names, tables):\n",
    "    '''\n",
    "    Строим меню на основе таблиц и их имен.\n",
    "    \n",
    "    На выходе получаем словарь такого вида:\n",
    "    menu = {\n",
    "        '0': {'description': '<Название таблицы>', 'data': <Данные тыблицы>, 'method': print },\n",
    "        'q': {'description': 'Завершение программы', 'data': None, 'method': None}\n",
    "    }\n",
    "    '''\n",
    "    quotes = dict(zip(table_names, tables))\n",
    "    menu_items = [{'description': name, 'data': data, 'method': print} for name, data in quotes.items()]\n",
    "    menu = dict(zip(map(str, range(len(menu_items))), menu_items))\n",
    "    \n",
    "    menu['q'] = {'description': 'Завершение программы', 'data': None, 'method': None}\n",
    "    \n",
    "    return menu\n",
    "\n",
    "menu = build_menu(table_names, tables)\n",
    "\n",
    "while True:\n",
    "    cmd = input('Введите команду: ')\n",
    "    if cmd == 'q':\n",
    "        break\n",
    "    \n",
    "    command = menu.get(cmd, None)\n",
    "    if command is None:\n",
    "        print('Неизвестная команда. Используйте одну из следующих команд:')\n",
    "        for cmd, command in menu.items():\n",
    "            description, data, method = command.values()\n",
    "            print(f'{cmd} - {description}')\n",
    "        \n",
    "        continue\n",
    "    \n",
    "    description, data, method = command.values()\n",
    "    method(data)\n",
    "    print('\\n\\n')"
   ]
  }
 ],
 "metadata": {
  "kernelspec": {
   "display_name": "Python 3",
   "language": "python",
   "name": "python3"
  },
  "language_info": {
   "codemirror_mode": {
    "name": "ipython",
    "version": 3
   },
   "file_extension": ".py",
   "mimetype": "text/x-python",
   "name": "python",
   "nbconvert_exporter": "python",
   "pygments_lexer": "ipython3",
   "version": "3.8.5"
  }
 },
 "nbformat": 4,
 "nbformat_minor": 4
}
