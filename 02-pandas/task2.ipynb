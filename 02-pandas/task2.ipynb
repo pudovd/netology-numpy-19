{
 "cells": [
  {
   "cell_type": "markdown",
   "metadata": {},
   "source": [
    "### Задание 2\n",
    "По данным файла `power.csv` посчитайте суммарное потребление стран Прибалтики (Латвия, Литва и Эстония) категорий `4`, `12` и `21` за период с `2005` по `2010` года. Не учитывайте в расчетах отрицательные значения `quantity`."
   ]
  },
  {
   "cell_type": "code",
   "execution_count": 1,
   "metadata": {},
   "outputs": [
    {
     "name": "stdout",
     "output_type": "stream",
     "text": [
      "Суммарное потребление стран Прибалтики: 240580.0\n"
     ]
    }
   ],
   "source": [
    "import lzma\n",
    "import pandas as pd\n",
    "\n",
    "file = lzma.open('data/power.csv.xz')\n",
    "data = pd.read_csv(file)\n",
    "\n",
    "# prepare conditions for data filter\n",
    "pribaltika = (\n",
    "    (data.country == 'Latvia')\n",
    "    | (data.country == 'Lithuania')\n",
    "    | (data.country == 'Estonia')\n",
    ")\n",
    "categories = (\n",
    "    (data.category == 4)\n",
    "    | (data.category == 12)\n",
    "    | (data.category == 21)\n",
    ")\n",
    "years = (data.year >= 2005) & (data.year <= 2010)\n",
    "quantities = data.quantity >= 0\n",
    "\n",
    "# evaluate\n",
    "result = data[pribaltika & categories & years & quantities]['quantity'].sum()\n",
    "print(f'Суммарное потребление стран Прибалтики: {result}')"
   ]
  }
 ],
 "metadata": {
  "kernelspec": {
   "display_name": "Python 3",
   "language": "python",
   "name": "python3"
  },
  "language_info": {
   "codemirror_mode": {
    "name": "ipython",
    "version": 3
   },
   "file_extension": ".py",
   "mimetype": "text/x-python",
   "name": "python",
   "nbconvert_exporter": "python",
   "pygments_lexer": "ipython3",
   "version": "3.8.5"
  }
 },
 "nbformat": 4,
 "nbformat_minor": 4
}
